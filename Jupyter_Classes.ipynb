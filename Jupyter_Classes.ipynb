{
 "cells": [
  {
   "cell_type": "code",
   "execution_count": 2,
   "metadata": {},
   "outputs": [
    {
     "data": {
      "text/plain": [
       "'\\nAuthor: Scott Field\\nVersion: 1.00\\nDate: 4/04/2023\\nProgram Name: Jupyter_Classes\\nProgram Purpose: Show understanding of Classes.\\n'"
      ]
     },
     "execution_count": 2,
     "metadata": {},
     "output_type": "execute_result"
    }
   ],
   "source": [
    "'''\n",
    "Author: Scott Field\n",
    "Version: 1.00\n",
    "Date: 4/04/2023\n",
    "Program Name: Jupyter_Classes\n",
    "Program Purpose: Show understanding of Classes.\n",
    "'''"
   ]
  },
  {
   "cell_type": "code",
   "execution_count": 3,
   "metadata": {},
   "outputs": [
    {
     "name": "stdout",
     "output_type": "stream",
     "text": [
      "<__main__.Thing object at 0x000001889CDCF8B0>\n",
      "<__main__.Thing object at 0x000001889CDCFB50>\n"
     ]
    }
   ],
   "source": [
    "#Exercise 10.1\n",
    "#Make a class called Thing with no contents and print it. Then, create an object called example from this class and also print it. Are the printed values the same or different?\n",
    "\n",
    "#Create Class With No Contents\n",
    "class Thing():\n",
    "    pass\n",
    "\n",
    "#Print Class\n",
    "print(Thing())\n",
    "\n",
    "#Create Object From Class\n",
    "example = Thing()\n",
    "\n",
    "#Print Object\n",
    "print(example)\n",
    "\n",
    "#Printed Values Are Different Because They Are Stored At Different Memory Locations\n",
    "\n",
    "    "
   ]
  },
  {
   "cell_type": "code",
   "execution_count": 23,
   "metadata": {},
   "outputs": [],
   "source": [
    "#Exercise 10.4\n",
    "#Make a class called Element, with instance attributes name, symbol, and number. Create an object of this class with the values 'Hydrogen', 'H', and 1.\n",
    "#(Uncomment Commented Code To See Class Attributes)\n",
    "\n",
    "#Create Element Class\n",
    "class Element():\n",
    "    def __init__(self,name,symbol,number):\n",
    "        self.name = name\n",
    "        self.symbol = symbol\n",
    "        self.number = number\n",
    "\n",
    "    #def __str__(self): #Not Required By Directions Used To Check The Class Attributes\n",
    "        #return self.name + \" \" + self.symbol + \" \" + str(self.number) #Not Required By Directions Used To Check The Class Attributes\n",
    "\n",
    "someElement = Element('Hydrogen','H',1)\n",
    "\n",
    "#print(someElement) #Not Required By Directions Used To Check The Class Values\n"
   ]
  },
  {
   "cell_type": "code",
   "execution_count": 24,
   "metadata": {},
   "outputs": [],
   "source": [
    "#Exercise 10.5\n",
    "#Make a dictionary with these keys and values: 'name': 'Hydrogen', 'symbol': 'H', 'number': 1. Then, create an object called hydrogen from class Element using this dictionary.\n",
    "dict = {'name': 'Hydrogen', 'symbol': 'H', 'number': 1}\n",
    "hydrogen = Element(dict['name'],dict['symbol'],dict['number'])\n"
   ]
  },
  {
   "cell_type": "code",
   "execution_count": 28,
   "metadata": {},
   "outputs": [
    {
     "name": "stdout",
     "output_type": "stream",
     "text": [
      "berries\n",
      "clover\n",
      "campers\n"
     ]
    }
   ],
   "source": [
    "#Exercise 10.9\n",
    "#Define three classes: Bear, Rabbit, and Octothorpe. For each, define only one method: eats(). \n",
    "#This should return 'berries' (Bear), 'clover' (Rabbit), or 'campers' (Octothorpe). Create one object from each and print what it eats.\n",
    "class Bear():\n",
    "    def eats(self):\n",
    "        return 'berries'\n",
    "    \n",
    "class Rabbit():\n",
    "    def eats(self):\n",
    "        return 'clover'\n",
    "    \n",
    "class Octothorpe():\n",
    "    def eats(self):\n",
    "        return 'campers'\n",
    "    \n",
    "theBear = Bear()\n",
    "print(theBear.eats())\n",
    "\n",
    "theRabbit = Rabbit()\n",
    "print(theRabbit.eats())\n",
    "\n",
    "theOctothorpe = Octothorpe()\n",
    "print(theOctothorpe.eats())"
   ]
  }
 ],
 "metadata": {
  "kernelspec": {
   "display_name": "Python 3",
   "language": "python",
   "name": "python3"
  },
  "language_info": {
   "codemirror_mode": {
    "name": "ipython",
    "version": 3
   },
   "file_extension": ".py",
   "mimetype": "text/x-python",
   "name": "python",
   "nbconvert_exporter": "python",
   "pygments_lexer": "ipython3",
   "version": "3.10.7"
  },
  "orig_nbformat": 4
 },
 "nbformat": 4,
 "nbformat_minor": 2
}
